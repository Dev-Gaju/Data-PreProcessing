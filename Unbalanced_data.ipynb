{
 "cells": [
  {
   "cell_type": "code",
   "execution_count": null,
   "metadata": {},
   "outputs": [],
   "source": [
    "Here main purpuse is detect faurd.(data can be two link in dataset majority and minority)\n",
    "Solution can be calculate by:\n",
    "1. Over Sampling\n",
    "2. Under sampling\n",
    "3. SMOTE(better than 1 and 2)\n",
    " Using KNN create sample for minority class and match with majority class\n",
    "4. Adjusting Threshold.(after a certain thresold this gonna be fraud)"
   ]
  }
 ],
 "metadata": {
  "kernelspec": {
   "display_name": "Python 3",
   "language": "python",
   "name": "python3"
  },
  "language_info": {
   "codemirror_mode": {
    "name": "ipython",
    "version": 3
   },
   "file_extension": ".py",
   "mimetype": "text/x-python",
   "name": "python",
   "nbconvert_exporter": "python",
   "pygments_lexer": "ipython3",
   "version": "3.7.6"
  }
 },
 "nbformat": 4,
 "nbformat_minor": 4
}
