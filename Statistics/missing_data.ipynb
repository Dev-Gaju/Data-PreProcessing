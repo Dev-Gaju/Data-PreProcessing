{
 "cells": [
  {
   "cell_type": "code",
   "execution_count": null,
   "metadata": {},
   "outputs": [],
   "source": [
    "\"\"\"Mising data handle by the mean of entire column\"\"\""
   ]
  },
  {
   "cell_type": "markdown",
   "metadata": {},
   "source": [
    "sometimes it not worked properly because if somehow relation between row and column like age depend on salary the it could be \n",
    "messed up."
   ]
  },
  {
   "cell_type": "code",
   "execution_count": null,
   "metadata": {},
   "outputs": [],
   "source": [
    "\"\"\"Dropping row\"\"\"\n",
    "sometimes dropping harmfull. If you have too many data then it not prblm but if you have limited data the it could.\n",
    "for dropping reason data could be bais."
   ]
  },
  {
   "cell_type": "code",
   "execution_count": null,
   "metadata": {},
   "outputs": [],
   "source": [
    "\"\"\"Best way to calculate missing data\"\"\"\n",
    "1. KNN(check the related value depend on k and the calculate the average of these value) with Euclidean distance.\n",
    "Hamming distance work for category data.Basically KNN better for numerical data not categoty.\n",
    "  \n",
    "2.Deep learning(Its better for categorical data)\n",
    "3.Regression(Its define linear & non-leniar relationship between feature)\n",
    "\n",
    "Most advance technique is MICE(Multiple imputation by chained equation)"
   ]
  }
 ],
 "metadata": {
  "kernelspec": {
   "display_name": "Python 3",
   "language": "python",
   "name": "python3"
  },
  "language_info": {
   "codemirror_mode": {
    "name": "ipython",
    "version": 3
   },
   "file_extension": ".py",
   "mimetype": "text/x-python",
   "name": "python",
   "nbconvert_exporter": "python",
   "pygments_lexer": "ipython3",
   "version": "3.7.6"
  }
 },
 "nbformat": 4,
 "nbformat_minor": 4
}
