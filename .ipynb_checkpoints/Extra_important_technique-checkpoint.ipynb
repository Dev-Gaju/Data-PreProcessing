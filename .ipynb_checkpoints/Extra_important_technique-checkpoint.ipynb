{
 "cells": [
  {
   "cell_type": "code",
   "execution_count": null,
   "metadata": {},
   "outputs": [],
   "source": [
    "1.Binning ( worked with group of data with given range)--for uncertinity data\n",
    " you have data about a group of people, you might want to arrange their ages into a smaller number of age intervals\n",
    "2. Transforming(non-leniar to linear or other things(new feaure)).\n",
    "3. Encoding(One hot encoding)--Neural network more popular\n",
    "4.Scalling(-1 to 1) some model prefer that not every model\n",
    "5. shufling( )"
   ]
  }
 ],
 "metadata": {
  "kernelspec": {
   "display_name": "Python 3",
   "language": "python",
   "name": "python3"
  },
  "language_info": {
   "codemirror_mode": {
    "name": "ipython",
    "version": 3
   },
   "file_extension": ".py",
   "mimetype": "text/x-python",
   "name": "python",
   "nbconvert_exporter": "python",
   "pygments_lexer": "ipython3",
   "version": "3.7.6"
  }
 },
 "nbformat": 4,
 "nbformat_minor": 4
}
